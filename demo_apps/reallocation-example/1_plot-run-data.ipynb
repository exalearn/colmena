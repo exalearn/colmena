{
 "cells": [
  {
   "cell_type": "markdown",
   "metadata": {},
   "source": [
    "# Plot Run Data\n",
    "This notebook plots the performance of a run to assess the optimization performance and system utilization."
   ]
  },
  {
   "cell_type": "code",
   "execution_count": 1,
   "metadata": {},
   "outputs": [],
   "source": [
    "%matplotlib inline\n",
    "from matplotlib import pyplot as plt\n",
    "from pathlib import Path\n",
    "import pandas as pd\n",
    "import numpy as np\n",
    "import json"
   ]
  },
  {
   "cell_type": "markdown",
   "metadata": {},
   "source": [
    "Load the run information "
   ]
  },
  {
   "cell_type": "code",
   "execution_count": 2,
   "metadata": {},
   "outputs": [],
   "source": [
    "run_info = pd.read_csv('run_data.csv')"
   ]
  },
  {
   "cell_type": "markdown",
   "metadata": {},
   "source": [
    "Pick one"
   ]
  },
  {
   "cell_type": "code",
   "execution_count": 3,
   "metadata": {},
   "outputs": [
    {
     "name": "stdout",
     "output_type": "stream",
     "text": [
      "path            runs/reallocate-N100-P4-050124-101957\n",
      "start_time                        2024-01-05 10:19:57\n",
      "num_guesses                                       100\n",
      "num_parallel                                        4\n",
      "retrain_wait                                       20\n",
      "dim                                                 4\n",
      "runtime                                             2\n",
      "runtime_var                                         1\n",
      "opt_delay                                        20.0\n",
      "file                                  reallocation.py\n",
      "worker_count                                        4\n",
      "n_evals                                            53\n",
      "Name: 0, dtype: object\n"
     ]
    }
   ],
   "source": [
    "run_info = run_info.sort_values('start_time', ascending=False).iloc[0]\n",
    "print(run_info)"
   ]
  },
  {
   "cell_type": "markdown",
   "metadata": {},
   "source": [
    "## Load in Result File\n",
    "This file is the list of the quantum chemistry results"
   ]
  },
  {
   "cell_type": "code",
   "execution_count": 4,
   "metadata": {},
   "outputs": [],
   "source": [
    "run_path = Path(run_info['path'])"
   ]
  },
  {
   "cell_type": "code",
   "execution_count": 5,
   "metadata": {},
   "outputs": [],
   "source": [
    "with open(run_path / 'results.json') as fp:\n",
    "    result_data = pd.json_normalize([json.loads(l) for l in fp], sep='_')"
   ]
  },
  {
   "cell_type": "markdown",
   "metadata": {},
   "source": [
    "Plot the time since first result"
   ]
  },
  {
   "cell_type": "code",
   "execution_count": 6,
   "metadata": {},
   "outputs": [],
   "source": [
    "result_data['walltime'] = result_data['timestamp_result_received'] - result_data['timestamp_created'].min()"
   ]
  },
  {
   "cell_type": "markdown",
   "metadata": {},
   "source": [
    "Plot the rate at which we aquired new results"
   ]
  },
  {
   "cell_type": "markdown",
   "metadata": {},
   "source": [
    "## Evaluate Runtimes\n",
    "Estimate the runtimes of the QC code"
   ]
  },
  {
   "cell_type": "code",
   "execution_count": 7,
   "metadata": {},
   "outputs": [
    {
     "data": {
      "text/plain": [
       "count    103.000000\n",
       "mean      12.336803\n",
       "std       13.653985\n",
       "min        0.956067\n",
       "25%        3.519447\n",
       "50%        7.471832\n",
       "75%       15.221390\n",
       "max       76.415690\n",
       "Name: time_running, dtype: float64"
      ]
     },
     "execution_count": 7,
     "metadata": {},
     "output_type": "execute_result"
    }
   ],
   "source": [
    "result_data['time_running'].describe()"
   ]
  },
  {
   "cell_type": "code",
   "execution_count": 8,
   "metadata": {},
   "outputs": [
    {
     "data": {
      "image/png": "[encoded data removed]",
      "text/plain": [
       "<Figure size 350x250 with 1 Axes>"
      ]
     },
     "metadata": {},
     "output_type": "display_data"
    }
   ],
   "source": [
    "fig, ax = plt.subplots(figsize=(3.5, 2.5))\n",
    "\n",
    "min_log = np.log10(result_data.time_running).min()\n",
    "max_log = np.log10(result_data.time_running).max()\n",
    "ax.hist(result_data['time_running'], bins=np.logspace(min_log - 0.2, max_log + 0.2, 32))\n",
    "ax.set_xscale('log')\n",
    "\n",
    "ax.set_xlabel('Runtime (s)')\n",
    "ax.set_ylabel('Count')\n",
    "fig.tight_layout()"
   ]
  },
  {
   "cell_type": "markdown",
   "metadata": {},
   "source": [
    "## Evaluate Performance\n",
    "See if we are getting better over time"
   ]
  },
  {
   "cell_type": "code",
   "execution_count": 9,
   "metadata": {},
   "outputs": [
    {
     "data": {
      "text/plain": [
       "count    103.000000\n",
       "mean      12.336803\n",
       "std       13.653985\n",
       "min        0.956067\n",
       "25%        3.519447\n",
       "50%        7.471832\n",
       "75%       15.221390\n",
       "max       76.415690\n",
       "Name: time_running, dtype: float64"
      ]
     },
     "execution_count": 9,
     "metadata": {},
     "output_type": "execute_result"
    }
   ],
   "source": [
    "result_data['time_running'].describe()"
   ]
  },
  {
   "cell_type": "code",
   "execution_count": 10,
   "metadata": {},
   "outputs": [
    {
     "data": {
      "image/png": "[encoded data removed]",
      "text/plain": [
       "<Figure size 350x250 with 1 Axes>"
      ]
     },
     "metadata": {},
     "output_type": "display_data"
    }
   ],
   "source": [
    "fig, ax = plt.subplots(figsize=(3.5, 2.5))\n",
    "\n",
    "ax.scatter(result_data['walltime'], result_data['value'])\n",
    "\n",
    "ax.set_xlabel('Runtime (s)')\n",
    "ax.set_ylabel('Value')\n",
    "fig.tight_layout()"
   ]
  },
  {
   "cell_type": "markdown",
   "metadata": {},
   "source": [
    "## Plot the Number of Simulations Being Run at a Time\n",
    "We can look at the runtime log to get when simualtions tasks start computing and when they finish"
   ]
  },
  {
   "cell_type": "code",
   "execution_count": 11,
   "metadata": {},
   "outputs": [],
   "source": [
    "with open(run_path / 'run.log') as fp:\n",
    "    log_data = pd.DataFrame(f.rstrip() for f in fp)\n",
    "log_data.rename(columns={0: 'msg'}, inplace=True)\n",
    "log_data['msg_num'] = log_data['msg'].str.match(r'^[\\d]').cumsum()\n",
    "log_data = log_data.groupby('msg_num').agg({'msg': lambda x: '\\n'.join(x)})"
   ]
  },
  {
   "cell_type": "code",
   "execution_count": 12,
   "metadata": {},
   "outputs": [],
   "source": [
    "log_data['time'], log_data['module'], log_data['level'], log_data['content'] = zip(*log_data['msg'].str.split(\" - \", n=3))"
   ]
  },
  {
   "cell_type": "markdown",
   "metadata": {},
   "source": [
    "Compute the time since first message"
   ]
  },
  {
   "cell_type": "code",
   "execution_count": 13,
   "metadata": {},
   "outputs": [],
   "source": [
    "log_data['time'] = pd.to_datetime(log_data['time'], utc=False)"
   ]
  },
  {
   "cell_type": "code",
   "execution_count": 14,
   "metadata": {},
   "outputs": [],
   "source": [
    "log_data['walltime'] = (log_data['time'] - log_data['time'].iloc[0]).apply(lambda x: x.total_seconds())"
   ]
  },
  {
   "cell_type": "code",
   "execution_count": 15,
   "metadata": {},
   "outputs": [],
   "source": [
    "start_time = log_data['time'].iloc[0].timestamp()"
   ]
  },
  {
   "cell_type": "markdown",
   "metadata": {},
   "source": [
    "Find the events related to calculations starting and finishing"
   ]
  },
  {
   "cell_type": "code",
   "execution_count": 16,
   "metadata": {},
   "outputs": [],
   "source": [
    "start_time = result_data['timestamp_created'].min()"
   ]
  },
  {
   "cell_type": "code",
   "execution_count": 17,
   "metadata": {},
   "outputs": [],
   "source": [
    "events = [{'time': 0, 'active_delta': 0}]\n",
    "events.extend({'time': t - start_time, 'active_delta': -1} for t in \n",
    "          (result_data['timestamp_compute_started'] + result_data['time_running']))\n",
    "events.extend([{'time': t - start_time, 'active_delta': 1} for t in result_data['timestamp_compute_started']])\n",
    "events = pd.DataFrame(events)"
   ]
  },
  {
   "cell_type": "markdown",
   "metadata": {},
   "source": [
    "Make the results easier to plot"
   ]
  },
  {
   "cell_type": "code",
   "execution_count": 18,
   "metadata": {},
   "outputs": [],
   "source": [
    "events.sort_values('time', ascending=True, inplace=True)"
   ]
  },
  {
   "cell_type": "code",
   "execution_count": 19,
   "metadata": {},
   "outputs": [],
   "source": [
    "events['num_active'] = events['active_delta'].cumsum()"
   ]
  },
  {
   "cell_type": "markdown",
   "metadata": {},
   "source": [
    "Compute worker utilization"
   ]
  },
  {
   "cell_type": "code",
   "execution_count": 20,
   "metadata": {},
   "outputs": [],
   "source": [
    "events['queue_length'] = events['num_active']"
   ]
  },
  {
   "cell_type": "code",
   "execution_count": 21,
   "metadata": {},
   "outputs": [],
   "source": [
    "events['utilization'] = np.clip(events['queue_length'] / run_info['worker_count'], 0, 1)"
   ]
  },
  {
   "cell_type": "code",
   "execution_count": 22,
   "metadata": {},
   "outputs": [],
   "source": [
    "utilization_int = (np.diff(events['time'].values) * events['utilization'].values[:-1]).cumsum()"
   ]
  },
  {
   "cell_type": "markdown",
   "metadata": {},
   "source": [
    "Compute the cumulative utilization"
   ]
  },
  {
   "cell_type": "code",
   "execution_count": 23,
   "metadata": {},
   "outputs": [],
   "source": [
    "def cumulative_utilization(time: float) -> float:\n",
    "    \"\"\"Compute average utilization over time\"\"\"\n",
    "    # Integrating knowing that we have a piecewise functions\n",
    "    # Integrate over all of the pieces before the current piece\n",
    "    past_events = events[events.time <= time]\n",
    "    if len(past_events) <= 1:\n",
    "        return 0.0\n",
    "    past_util = (np.diff(past_events['time'].values) * past_events['utilization'].values[:-1]).sum()\n",
    "    \n",
    "    # Integrate the current piece\n",
    "    current_event = past_events.iloc[-1]\n",
    "    current_util = (time - current_event.time) * current_event.utilization\n",
    "    return (past_util + current_util) / time"
   ]
  },
  {
   "cell_type": "code",
   "execution_count": 24,
   "metadata": {},
   "outputs": [
    {
     "name": "stdout",
     "output_type": "stream",
     "text": [
      "CPU times: user 184 ms, sys: 16.3 ms, total: 200 ms\n",
      "Wall time: 193 ms\n"
     ]
    }
   ],
   "source": [
    "%%time\n",
    "times = np.linspace(0, events.time.max(), 1024)\n",
    "utilization = np.array([cumulative_utilization(x) for x in times])"
   ]
  },
  {
   "cell_type": "markdown",
   "metadata": {},
   "source": [
    "Plot the queue length and utilization"
   ]
  },
  {
   "cell_type": "code",
   "execution_count": 25,
   "metadata": {},
   "outputs": [
    {
     "data": {
      "image/png": "[encoded data removed]",
      "text/plain": [
       "<Figure size 650x250 with 2 Axes>"
      ]
     },
     "metadata": {},
     "output_type": "display_data"
    }
   ],
   "source": [
    "fig, axs = plt.subplots(1, 2, figsize=(6.5, 2.5))\n",
    "\n",
    "# Plot the queue length\n",
    "ax = axs[0]\n",
    "ax.step(events['time'], events['utilization'] * 100, where='post')\n",
    "ax.set_xlabel('Walltime (s)')\n",
    "ax.set_ylabel('Utilization (%)')\n",
    "ax.set_ylim(0, 105)\n",
    "\n",
    "ax = axs[1]\n",
    "ax.plot(times, utilization * 100)\n",
    "ax.set_xlabel('Walltime (s)')\n",
    "ax.set_ylabel('Cumulative Util. (%)')\n",
    "ax.set_ylim(0, 105)\n",
    "\n",
    "fig.tight_layout()\n",
    "fig.savefig('utilization.png', dpi=320)"
   ]
  },
  {
   "cell_type": "markdown",
   "metadata": {},
   "source": [
    "## Plot Assignment to Different \"Nodes\"\n",
    "See how work is distributed"
   ]
  },
  {
   "cell_type": "code",
   "execution_count": 26,
   "metadata": {},
   "outputs": [],
   "source": [
    "with open(run_path / 'retrain.json') as fp:\n",
    "    retrain_data = pd.json_normalize([json.loads(l) for l in fp], sep='_')"
   ]
  },
  {
   "cell_type": "code",
   "execution_count": 27,
   "metadata": {},
   "outputs": [
    {
     "data": {
      "image/png": "[encoded data removed]",
      "text/plain": [
       "<Figure size 350x250 with 1 Axes>"
      ]
     },
     "metadata": {},
     "output_type": "display_data"
    }
   ],
   "source": [
    "fig, ax = plt.subplots(figsize=(3.5, 2.5))\n",
    "\n",
    "for label, data in zip(['ML', 'SIM'], [retrain_data, result_data]):\n",
    "    data[\"worker\"] = data['worker_info_PARSL_WORKER_RANK'].apply(int)\n",
    "    ax.barh(y=data[\"worker\"], width=data[\"time_running\"], left=data[\"timestamp_compute_started\"] - start_time, label=label, edgecolor='k')\n",
    "    \n",
    "ax.set_yticks(np.arange(data[\"worker\"].max() + 1))\n",
    "ax.set_ylabel('Node')\n",
    "\n",
    "ax.set_xlim([0, max(ax.get_xlim())])\n",
    "\n",
    "ax.set_xlabel('Time (s)')\n",
    "ax.legend()\n",
    "fig.tight_layout()\n",
    "fig.savefig('figures/allocation.png', dpi=320)"
   ]
  },
  {
   "cell_type": "code",
   "execution_count": null,
   "metadata": {},
   "outputs": [],
   "source": []
  }
 ],
 "metadata": {
  "kernelspec": {
   "display_name": "Python 3 (ipykernel)",
   "language": "python",
   "name": "python3"
  },
  "language_info": {
   "codemirror_mode": {
    "name": "ipython",
    "version": 3
   },
   "file_extension": ".py",
   "mimetype": "text/x-python",
   "name": "python",
   "nbconvert_exporter": "python",
   "pygments_lexer": "ipython3",
   "version": "3.11.7"
  }
 },
 "nbformat": 4,
 "nbformat_minor": 4
}
