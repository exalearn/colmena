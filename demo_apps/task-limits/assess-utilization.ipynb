{
 "cells": [
  {
   "cell_type": "markdown",
   "metadata": {},
   "source": [
    "# Assessing Utilization\n",
    "We want to measure how much the system was utilized for different types of loads."
   ]
  },
  {
   "cell_type": "code",
   "execution_count": 1,
   "metadata": {},
   "outputs": [],
   "source": [
    "%matplotlib inline\n",
    "from matplotlib import pyplot as plt\n",
    "from pathlib import Path\n",
    "import pandas as pd\n",
    "import numpy as np\n",
    "import json\n",
    "import re\n",
    "params = {'legend.fontsize': 8,\n",
    "         'axes.labelsize': 9,\n",
    "         'axes.titlesize':'x-large',\n",
    "         'xtick.labelsize': 6,\n",
    "         'ytick.labelsize': 6}\n",
    "plt.rcParams.update(params)"
   ]
  },
  {
   "cell_type": "markdown",
   "metadata": {},
   "source": [
    "## Get the Runs\n",
    "Load in the different runs that are part of this benchmarking effort"
   ]
  },
  {
   "cell_type": "code",
   "execution_count": 2,
   "metadata": {},
   "outputs": [
    {
     "name": "stdout",
     "output_type": "stream",
     "text": [
      "Found 12 runs\n"
     ]
    }
   ],
   "source": [
    "runs = list(Path(\"./runs/\").rglob(\"config.json\"))\n",
    "print(f'Found {len(runs)} runs')"
   ]
  },
  {
   "cell_type": "markdown",
   "metadata": {},
   "source": [
    "Summarize the runs"
   ]
  },
  {
   "cell_type": "code",
   "execution_count": 3,
   "metadata": {},
   "outputs": [],
   "source": [
    "def summarize_run(path: Path):\n",
    "    \"\"\"Get some details about the run\"\"\"\n",
    "    \n",
    "    with open(path) as fp:\n",
    "        config = json.load(fp)\n",
    "    \n",
    "    config['path'] = path.parent\n",
    "    config['host'] = path.parent.name.rsplit(\"-\", 5)[0]\n",
    "    return config"
   ]
  },
  {
   "cell_type": "code",
   "execution_count": 4,
   "metadata": {},
   "outputs": [],
   "source": [
    "results = pd.DataFrame(summarize_run(x) for x in runs)"
   ]
  },
  {
   "cell_type": "markdown",
   "metadata": {},
   "source": [
    "## Assess Utilization\n",
    "Our goal is to measure the utilization at \"steady state\" after all workers have finished loading in libraries.\n",
    "\n",
    "We do so by looking at how busy each worker is.\n",
    "We can measure this by starting the clock on utilization when the first task completes and ending it when the last result finishes.\n",
    "Utilization for that node is the total time compute was running devided by the time elapsed."
   ]
  },
  {
   "cell_type": "code",
   "execution_count": 5,
   "metadata": {},
   "outputs": [],
   "source": [
    "def get_utilization(path: Path):\n",
    "    \"\"\"Measure the average utilization of this run\"\"\"\n",
    "    \n",
    "    # Get the results for each worker\n",
    "    results = pd.read_json(path / \"results.json\", lines=True)\n",
    "    \n",
    "    if len(results) == 0:\n",
    "        return None\n",
    "    results['worker'] = results['worker_info'].apply(lambda x: f'{x[\"hostname\"]}-{x[\"PARSL_WORKER_RANK\"]}')\n",
    "    \n",
    "    # Compute utilization per worker\n",
    "    utils = []\n",
    "    results = pd.concat([results, pd.json_normalize(results['timestamp'], sep=\"_\")], axis=1)\n",
    "    for gid, group in results.groupby('worker'):\n",
    "        group.sort_values('created', inplace=True)\n",
    "\n",
    "        # Get the total time running\n",
    "        start_time = group.iloc[0]['compute_ended']\n",
    "        end_time = group.iloc[-1]['compute_ended']\n",
    "        time_elapsed = end_time - start_time\n",
    "\n",
    "        # Get the total time used\n",
    "        compute_used = group.iloc[1:]['time'].apply(lambda x: x['running']).sum()\n",
    "\n",
    "        utils.append(compute_used / time_elapsed)\n",
    "    \n",
    "    return np.mean(utils)"
   ]
  },
  {
   "cell_type": "code",
   "execution_count": 6,
   "metadata": {},
   "outputs": [],
   "source": [
    "results['utilization'] = results['path'].apply(get_utilization)"
   ]
  },
  {
   "cell_type": "code",
   "execution_count": 7,
   "metadata": {},
   "outputs": [
    {
     "name": "stderr",
     "output_type": "stream",
     "text": [
      "No artists with labels found to put in legend.  Note that artists whose label start with an underscore are ignored when legend() is called with no argument.\n"
     ]
    },
    {
     "data": {
      "image/png": "[encoded data removed]",
      "text/plain": [
       "<Figure size 350x175 with 1 Axes>"
      ]
     },
     "metadata": {},
     "output_type": "display_data"
    }
   ],
   "source": [
    "fig, ax = plt.subplots(figsize=(3.5, 1.75))\n",
    "\n",
    "for (gid, group), m in zip(results.query('host==\"x3002c0s37b0n0\"').groupby(['task_input_size', 'parallel_tasks']), ['o', 's', '^', 'v']):\n",
    "    group.sort_values(['task_length', 'utilization'], ascending=False, inplace=True)\n",
    "    group.drop_duplicates('task_length', inplace=True, keep='first')\n",
    "    ax.semilogx(group['task_length'], group['utilization'] * 100, '--'+m, label=f'$s$={gid[0]}MB, $N$={gid[1]}')\n",
    "\n",
    "ax.set_ylim(0, 105)\n",
    "ax.set_ylabel('Utilization (%)')\n",
    "ax.set_xlabel('Task Duration (s)')\n",
    "ax.legend(fontsize=7)\n",
    "\n",
    "fig.tight_layout()\n",
    "fig.savefig('performance-envelope.pdf')"
   ]
  },
  {
   "cell_type": "markdown",
   "metadata": {},
   "source": [
    "## Measure the Response, Decision, and Dispatch Times\n",
    "We can measure three sources of latency for applications using the logs in the `Result` object for response and dispatch, and the Colmena logs for the reaction time"
   ]
  },
  {
   "cell_type": "code",
   "execution_count": 8,
   "metadata": {},
   "outputs": [],
   "source": [
    "def get_median_reaction_time(path: Path):\n",
    "    \"\"\"Measure the median reaction time for all tasks, total and data-related, \n",
    "    broken down by compute and data transit\"\"\"\n",
    "\n",
    "    # Loop over the tasks\n",
    "    rxn_times = []\n",
    "    with path.joinpath('results.json').open() as fp:\n",
    "        for line in fp:\n",
    "            record = json.loads(line)\n",
    "            compute_time = (\n",
    "                record['timestamp']['result_received'] -\n",
    "                record['timestamp']['compute_ended']\n",
    "            )\n",
    "            data_time = results['task_info']['read\n",
    "            rxn_times.append\n",
    "\n",
    "    return np.percentile(rxn_times, 50)"
   ]
  },
  {
   "cell_type": "code",
   "execution_count": 9,
   "metadata": {},
   "outputs": [],
   "source": [
    "results['rxn_time'] = results['path'].apply(get_median_reaction_time)"
   ]
  },
  {
   "cell_type": "code",
   "execution_count": 10,
   "metadata": {},
   "outputs": [],
   "source": [
    "def get_median_decision_time(path: Path):\n",
    "    \"\"\"Measure the median time for all job submissions.\"\"\"\n",
    "\n",
    "    decision_time = []\n",
    "    pat = re.compile('Finished submitting new work. Runtime: (\\d\\.\\d+e-?\\d+)s')\n",
    "    with path.joinpath('run.log').open() as fp:\n",
    "        for line in fp:\n",
    "            for match in pat.findall(line):\n",
    "                decision_time.append(float(match))\n",
    "    return np.percentile(decision_time, 50)    "
   ]
  },
  {
   "cell_type": "code",
   "execution_count": 11,
   "metadata": {},
   "outputs": [],
   "source": [
    "results['decision_time'] = results['path'].apply(get_median_decision_time)"
   ]
  },
  {
   "cell_type": "code",
   "execution_count": 12,
   "metadata": {},
   "outputs": [],
   "source": [
    "def get_median_dispatch_time(path: Path):\n",
    "    \"\"\"Measure the median dispatch time for all tasks\"\"\"\n",
    "\n",
    "    # Loop over the tasks\n",
    "    rxn_times = []\n",
    "    with path.joinpath('results.json').open() as fp:\n",
    "        for line in fp:\n",
    "            record = json.loads(line)\n",
    "            compute_time = (record['timestamp']['compute_started'] \n",
    "                            - record['timestamp']['created'])\n",
    "            data_time = 0\n",
    "            for proxy, timings in record['time'].get('proxy', {}).items():\n",
    "                if 'store.get' in timings['times']:\n",
    "                    data_time += timings['times']['store.get']['avg_time_ms'] / 1000\n",
    "            rxn_times.append(\n",
    "                compute_time + data_time\n",
    "            )\n",
    "\n",
    "    return np.percentile(rxn_times, 50)"
   ]
  },
  {
   "cell_type": "code",
   "execution_count": 13,
   "metadata": {},
   "outputs": [],
   "source": [
    "results['dispatch_time'] = results['path'].apply(get_median_dispatch_time)"
   ]
  },
  {
   "cell_type": "code",
   "execution_count": null,
   "metadata": {},
   "outputs": [],
   "source": []
  }
 ],
 "metadata": {
  "kernelspec": {
   "display_name": "Python 3 (ipykernel)",
   "language": "python",
   "name": "python3"
  },
  "language_info": {
   "codemirror_mode": {
    "name": "ipython",
    "version": 3
   },
   "file_extension": ".py",
   "mimetype": "text/x-python",
   "name": "python",
   "nbconvert_exporter": "python",
   "pygments_lexer": "ipython3",
   "version": "3.11.7"
  }
 },
 "nbformat": 4,
 "nbformat_minor": 4
}
