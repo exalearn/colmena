{
 "cells": [
  {
   "cell_type": "markdown",
   "metadata": {},
   "source": [
    "# Assessing Utilization\n",
    "We want to measure how much the system was utilized for different types of loads."
   ]
  },
  {
   "cell_type": "code",
   "execution_count": 1,
   "metadata": {},
   "outputs": [],
   "source": [
    "%matplotlib inline\n",
    "from matplotlib import pyplot as plt\n",
    "from pathlib import Path\n",
    "import pandas as pd\n",
    "import numpy as np\n",
    "import json\n",
    "params = {'legend.fontsize': 8,\n",
    "         'axes.labelsize': 9,\n",
    "         'axes.titlesize':'x-large',\n",
    "         'xtick.labelsize': 6,\n",
    "         'ytick.labelsize': 6}\n",
    "plt.rcParams.update(params)"
   ]
  },
  {
   "cell_type": "markdown",
   "metadata": {},
   "source": [
    "## Get the Runs\n",
    "Load in the different runs that are part of this benchmarking effort"
   ]
  },
  {
   "cell_type": "code",
   "execution_count": 2,
   "metadata": {},
   "outputs": [
    {
     "name": "stdout",
     "output_type": "stream",
     "text": [
      "Found 6 runs\n"
     ]
    }
   ],
   "source": [
    "runs = list(Path(\"./runs/\").rglob(\"config.json\"))\n",
    "print(f'Found {len(runs)} runs')"
   ]
  },
  {
   "cell_type": "markdown",
   "metadata": {},
   "source": [
    "Summarize the runs"
   ]
  },
  {
   "cell_type": "code",
   "execution_count": 3,
   "metadata": {},
   "outputs": [],
   "source": [
    "def summarize_run(path: Path):\n",
    "    \"\"\"Get some details about the run\"\"\"\n",
    "    \n",
    "    with open(path) as fp:\n",
    "        config = json.load(fp)\n",
    "    \n",
    "    config['path'] = path.parent\n",
    "    return config"
   ]
  },
  {
   "cell_type": "code",
   "execution_count": 4,
   "metadata": {},
   "outputs": [],
   "source": [
    "results = pd.DataFrame(summarize_run(x) for x in runs)"
   ]
  },
  {
   "cell_type": "markdown",
   "metadata": {},
   "source": [
    "## Assess Utilization\n",
    "Our goal is to measure the utilization at \"steady state\" after all workers have finished loading in libraries.\n",
    "\n",
    "We do so by looking at how busy each worker is.\n",
    "We can measure this by starting the clock on utilization when the first task completes and ending it when the last result finishes.\n",
    "Utilization for that node is the total time compute was running devided by the time elapsed."
   ]
  },
  {
   "cell_type": "code",
   "execution_count": 5,
   "metadata": {},
   "outputs": [],
   "source": [
    "def get_utilization(path: Path):\n",
    "    \"\"\"Measure the average utilization of this run\"\"\"\n",
    "    \n",
    "    # Get the results for each worker\n",
    "    results = pd.read_json(path / \"results.json\", lines=True)\n",
    "    if len(results) == 0:\n",
    "        return None\n",
    "    results['worker'] = results['worker_info'].apply(lambda x: f'{x[\"hostname\"]}-{x[\"PARSL_WORKER_RANK\"]}')\n",
    "    \n",
    "    # Compute utilization per worker\n",
    "    utils = []\n",
    "    results = pd.concat([results, pd.json_normalize(results['timestamp'], sep=\"_\")], axis=1)\n",
    "    for gid, group in results.groupby('worker'):\n",
    "        group.sort_values('created', inplace=True)\n",
    "\n",
    "        # Get the total time running\n",
    "        start_time = group.iloc[0]['compute_ended']\n",
    "        end_time = group.iloc[-1]['compute_ended']\n",
    "        time_elapsed = end_time - start_time\n",
    "\n",
    "        # Get the total time used\n",
    "        compute_used = group.iloc[1:]['time'].apply(lambda x: x['running']).sum()\n",
    "\n",
    "        utils.append(compute_used / time_elapsed)\n",
    "    \n",
    "    return np.mean(utils)"
   ]
  },
  {
   "cell_type": "code",
   "execution_count": 6,
   "metadata": {},
   "outputs": [],
   "source": [
    "results['utilization'] = results['path'].apply(get_utilization)"
   ]
  },
  {
   "cell_type": "code",
   "execution_count": 7,
   "metadata": {},
   "outputs": [
    {
     "data": {
      "image/png": "[encoded data removed]",
      "text/plain": [
       "<Figure size 350x175 with 1 Axes>"
      ]
     },
     "metadata": {},
     "output_type": "display_data"
    }
   ],
   "source": [
    "fig, ax = plt.subplots(figsize=(3.5, 1.75))\n",
    "\n",
    "for (gid, group), m in zip(results.groupby(['task_input_size', 'parallel_tasks']), ['o', 's', '^']):\n",
    "    group.sort_values('task_length', inplace=True)\n",
    "    group.drop_duplicates('task_length', inplace=True)\n",
    "    ax.semilogx(group['task_length'], group['utilization'] * 100, '--'+m, label=f'$s$={gid[0]}MB, $N$={gid[1]}')\n",
    "\n",
    "ax.set_ylim(0, 105)\n",
    "ax.set_ylabel('Utilization (%)')\n",
    "ax.set_xlabel('Task Duration (s)')\n",
    "ax.legend(fontsize=7)\n",
    "\n",
    "fig.tight_layout()\n",
    "fig.savefig('performance-envelope.pdf')"
   ]
  },
  {
   "cell_type": "code",
   "execution_count": null,
   "metadata": {},
   "outputs": [],
   "source": []
  },
  {
   "cell_type": "code",
   "execution_count": null,
   "metadata": {},
   "outputs": [],
   "source": []
  }
 ],
 "metadata": {
  "kernelspec": {
   "display_name": "Python 3 (ipykernel)",
   "language": "python",
   "name": "python3"
  },
  "language_info": {
   "codemirror_mode": {
    "name": "ipython",
    "version": 3
   },
   "file_extension": ".py",
   "mimetype": "text/x-python",
   "name": "python",
   "nbconvert_exporter": "python",
   "pygments_lexer": "ipython3",
   "version": "3.11.7"
  }
 },
 "nbformat": 4,
 "nbformat_minor": 4
}
