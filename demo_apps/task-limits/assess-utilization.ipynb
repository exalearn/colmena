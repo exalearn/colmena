{
 "cells": [
  {
   "cell_type": "markdown",
   "metadata": {},
   "source": [
    "# Assessing Utilization\n",
    "We want to measure how much the system was utilized for different types of loads."
   ]
  },
  {
   "cell_type": "code",
   "execution_count": 1,
   "metadata": {},
   "outputs": [],
   "source": [
    "%matplotlib inline\n",
    "from matplotlib import pyplot as plt\n",
    "from pathlib import Path\n",
    "import pandas as pd\n",
    "import numpy as np\n",
    "import json\n",
    "params = {'legend.fontsize': 8,\n",
    "         'axes.labelsize': 9,\n",
    "         'axes.titlesize':'x-large',\n",
    "         'xtick.labelsize': 6,\n",
    "         'ytick.labelsize': 6}\n",
    "plt.rcParams.update(params)"
   ]
  },
  {
   "cell_type": "markdown",
   "metadata": {},
   "source": [
    "## Get the Runs\n",
    "Load in the different runs that are part of this benchmarking effort"
   ]
  },
  {
   "cell_type": "code",
   "execution_count": 2,
   "metadata": {},
   "outputs": [
    {
     "name": "stdout",
     "output_type": "stream",
     "text": [
      "Found 16 runs\n"
     ]
    }
   ],
   "source": [
    "runs = list(Path(\"./runs/\").rglob(\"config.json\"))\n",
    "print(f'Found {len(runs)} runs')"
   ]
  },
  {
   "cell_type": "markdown",
   "metadata": {},
   "source": [
    "Summarize the runs"
   ]
  },
  {
   "cell_type": "code",
   "execution_count": 3,
   "metadata": {},
   "outputs": [],
   "source": [
    "def summarize_run(path: Path):\n",
    "    \"\"\"Get some details about the run\"\"\"\n",
    "    \n",
    "    with open(path) as fp:\n",
    "        config = json.load(fp)\n",
    "    \n",
    "    config['path'] = path.parent\n",
    "    return config"
   ]
  },
  {
   "cell_type": "code",
   "execution_count": 4,
   "metadata": {},
   "outputs": [],
   "source": [
    "results = pd.DataFrame(summarize_run(x) for x in runs)"
   ]
  },
  {
   "cell_type": "markdown",
   "metadata": {},
   "source": [
    "## Assess Utilization\n",
    "Our goal is to measure the utilization at \"steady state\" after all workers have finished loading in libraries.\n",
    "\n",
    "We do so by looking at how busy each worker is.\n",
    "We can measure this by starting the clock on utilization when the first task completes and ending it when the last result finishes.\n",
    "Utilization for that node is the total time compute was running devided by the time elapsed."
   ]
  },
  {
   "cell_type": "code",
   "execution_count": 5,
   "metadata": {},
   "outputs": [],
   "source": [
    "def get_utilization(path: Path):\n",
    "    \"\"\"Measure the average utilization of this run\"\"\"\n",
    "    \n",
    "    # Get the results for each worker\n",
    "    results = pd.read_json(path / \"results.json\", lines=True)\n",
    "    if len(results) == 0:\n",
    "        return None\n",
    "    results['worker'] = results['worker_info'].apply(lambda x: f'{x[\"hostname\"]}-{x[\"PARSL_WORKER_RANK\"]}')\n",
    "    \n",
    "    # Compute utilization per worker\n",
    "    utils = []\n",
    "    results = pd.concat([results, pd.json_normalize(results['timestamp'], sep=\"_\")], axis=1)\n",
    "    for gid, group in results.groupby('worker'):\n",
    "        group.sort_values('created', inplace=True)\n",
    "\n",
    "        # Get the total time running\n",
    "        start_time = group.iloc[0]['compute_ended']\n",
    "        end_time = group.iloc[-1]['compute_ended']\n",
    "        time_elapsed = end_time - start_time\n",
    "\n",
    "        # Get the total time used\n",
    "        compute_used = group.iloc[1:]['time'].apply(lambda x: x['running']).sum()\n",
    "\n",
    "        utils.append(compute_used / time_elapsed)\n",
    "    \n",
    "    return np.mean(utils)"
   ]
  },
  {
   "cell_type": "code",
   "execution_count": 6,
   "metadata": {},
   "outputs": [],
   "source": [
    "results['utilization'] = results['path'].apply(get_utilization)"
   ]
  },
  {
   "cell_type": "code",
   "execution_count": 7,
   "metadata": {},
   "outputs": [
    {
     "data": {
      "image/png": "[encoded data removed]",
      "text/plain": [
       "<Figure size 350x175 with 1 Axes>"
      ]
     },
     "metadata": {},
     "output_type": "display_data"
    }
   ],
   "source": [
    "fig, ax = plt.subplots(figsize=(3.5, 1.75))\n",
    "\n",
    "for (gid, group), m in zip(results.groupby(['task_input_size', 'parallel_tasks']), ['o', 's', '^', 'v']):\n",
    "    group.sort_values(['task_length', 'utilization'], ascending=False, inplace=True)\n",
    "    group.drop_duplicates('task_length', inplace=True, keep='first')\n",
    "    ax.semilogx(group['task_length'], group['utilization'] * 100, '--'+m, label=f'$s$={gid[0]}MB, $N$={gid[1]}')\n",
    "\n",
    "ax.set_ylim(0, 105)\n",
    "ax.set_ylabel('Utilization (%)')\n",
    "ax.set_xlabel('Task Duration (s)')\n",
    "ax.legend(fontsize=7)\n",
    "\n",
    "fig.tight_layout()\n",
    "fig.savefig('performance-envelope.pdf')"
   ]
  },
  {
   "cell_type": "code",
   "execution_count": 8,
   "metadata": {},
   "outputs": [
    {
     "data": {
      "text/html": [
       "<div>\n",
       "<style scoped>\n",
       "    .dataframe tbody tr th:only-of-type {\n",
       "        vertical-align: middle;\n",
       "    }\n",
       "\n",
       "    .dataframe tbody tr th {\n",
       "        vertical-align: top;\n",
       "    }\n",
       "\n",
       "    .dataframe thead th {\n",
       "        text-align: right;\n",
       "    }\n",
       "</style>\n",
       "<table border=\"1\" class=\"dataframe\">\n",
       "  <thead>\n",
       "    <tr style=\"text-align: right;\">\n",
       "      <th></th>\n",
       "      <th>config</th>\n",
       "      <th>local_host</th>\n",
       "      <th>task_input_size</th>\n",
       "      <th>task_output_size</th>\n",
       "      <th>task_count</th>\n",
       "      <th>worker_count</th>\n",
       "      <th>task_length</th>\n",
       "      <th>task_length_std</th>\n",
       "      <th>use_proxystore</th>\n",
       "      <th>proxystore_threshold</th>\n",
       "      <th>reuse_data</th>\n",
       "      <th>output_dir</th>\n",
       "      <th>store_config</th>\n",
       "      <th>parsl_config</th>\n",
       "      <th>parallel_tasks</th>\n",
       "      <th>path</th>\n",
       "      <th>utilization</th>\n",
       "    </tr>\n",
       "  </thead>\n",
       "  <tbody>\n",
       "    <tr>\n",
       "      <th>0</th>\n",
       "      <td>None</td>\n",
       "      <td>True</td>\n",
       "      <td>1.0</td>\n",
       "      <td>1.0</td>\n",
       "      <td>128</td>\n",
       "      <td>16</td>\n",
       "      <td>10.0</td>\n",
       "      <td>0.01</td>\n",
       "      <td>True</td>\n",
       "      <td>1</td>\n",
       "      <td>False</td>\n",
       "      <td>runs</td>\n",
       "      <td>Store(name=store, connector=RedisConnector(hos...</td>\n",
       "      <td>Config(\\n    app_cache=True, \\n    checkpoint_...</td>\n",
       "      <td>16</td>\n",
       "      <td>runs/bettik-linux-2024-05-16_13-39-14</td>\n",
       "      <td>0.997314</td>\n",
       "    </tr>\n",
       "    <tr>\n",
       "      <th>3</th>\n",
       "      <td>None</td>\n",
       "      <td>True</td>\n",
       "      <td>100.0</td>\n",
       "      <td>100.0</td>\n",
       "      <td>128</td>\n",
       "      <td>16</td>\n",
       "      <td>10.0</td>\n",
       "      <td>0.01</td>\n",
       "      <td>True</td>\n",
       "      <td>1</td>\n",
       "      <td>False</td>\n",
       "      <td>runs</td>\n",
       "      <td>Store(name=store, connector=RedisConnector(hos...</td>\n",
       "      <td>Config(\\n    app_cache=True, \\n    checkpoint_...</td>\n",
       "      <td>16</td>\n",
       "      <td>runs/bettik-linux-2024-05-16_13-48-09</td>\n",
       "      <td>0.452690</td>\n",
       "    </tr>\n",
       "    <tr>\n",
       "      <th>6</th>\n",
       "      <td>None</td>\n",
       "      <td>True</td>\n",
       "      <td>0.1</td>\n",
       "      <td>0.1</td>\n",
       "      <td>128</td>\n",
       "      <td>16</td>\n",
       "      <td>10.0</td>\n",
       "      <td>0.01</td>\n",
       "      <td>True</td>\n",
       "      <td>1</td>\n",
       "      <td>False</td>\n",
       "      <td>runs</td>\n",
       "      <td>Store(name=store, connector=RedisConnector(hos...</td>\n",
       "      <td>Config(\\n    app_cache=True, \\n    checkpoint_...</td>\n",
       "      <td>16</td>\n",
       "      <td>runs/bettik-linux-2024-05-16_13-37-17</td>\n",
       "      <td>0.997465</td>\n",
       "    </tr>\n",
       "    <tr>\n",
       "      <th>10</th>\n",
       "      <td>None</td>\n",
       "      <td>True</td>\n",
       "      <td>10.0</td>\n",
       "      <td>10.0</td>\n",
       "      <td>128</td>\n",
       "      <td>16</td>\n",
       "      <td>10.0</td>\n",
       "      <td>0.01</td>\n",
       "      <td>True</td>\n",
       "      <td>1</td>\n",
       "      <td>False</td>\n",
       "      <td>runs</td>\n",
       "      <td>Store(name=store, connector=RedisConnector(hos...</td>\n",
       "      <td>Config(\\n    app_cache=True, \\n    checkpoint_...</td>\n",
       "      <td>16</td>\n",
       "      <td>runs/bettik-linux-2024-05-16_13-41-26</td>\n",
       "      <td>0.976018</td>\n",
       "    </tr>\n",
       "  </tbody>\n",
       "</table>\n",
       "</div>"
      ],
      "text/plain": [
       "   config  local_host  task_input_size  task_output_size  task_count  \\\n",
       "0    None        True              1.0               1.0         128   \n",
       "3    None        True            100.0             100.0         128   \n",
       "6    None        True              0.1               0.1         128   \n",
       "10   None        True             10.0              10.0         128   \n",
       "\n",
       "    worker_count  task_length  task_length_std  use_proxystore  \\\n",
       "0             16         10.0             0.01            True   \n",
       "3             16         10.0             0.01            True   \n",
       "6             16         10.0             0.01            True   \n",
       "10            16         10.0             0.01            True   \n",
       "\n",
       "    proxystore_threshold  reuse_data output_dir  \\\n",
       "0                      1       False       runs   \n",
       "3                      1       False       runs   \n",
       "6                      1       False       runs   \n",
       "10                     1       False       runs   \n",
       "\n",
       "                                         store_config  \\\n",
       "0   Store(name=store, connector=RedisConnector(hos...   \n",
       "3   Store(name=store, connector=RedisConnector(hos...   \n",
       "6   Store(name=store, connector=RedisConnector(hos...   \n",
       "10  Store(name=store, connector=RedisConnector(hos...   \n",
       "\n",
       "                                         parsl_config  parallel_tasks  \\\n",
       "0   Config(\\n    app_cache=True, \\n    checkpoint_...              16   \n",
       "3   Config(\\n    app_cache=True, \\n    checkpoint_...              16   \n",
       "6   Config(\\n    app_cache=True, \\n    checkpoint_...              16   \n",
       "10  Config(\\n    app_cache=True, \\n    checkpoint_...              16   \n",
       "\n",
       "                                     path  utilization  \n",
       "0   runs/bettik-linux-2024-05-16_13-39-14     0.997314  \n",
       "3   runs/bettik-linux-2024-05-16_13-48-09     0.452690  \n",
       "6   runs/bettik-linux-2024-05-16_13-37-17     0.997465  \n",
       "10  runs/bettik-linux-2024-05-16_13-41-26     0.976018  "
      ]
     },
     "execution_count": 8,
     "metadata": {},
     "output_type": "execute_result"
    }
   ],
   "source": [
    "results.query('task_length > 5')"
   ]
  },
  {
   "cell_type": "code",
   "execution_count": null,
   "metadata": {},
   "outputs": [],
   "source": []
  }
 ],
 "metadata": {
  "kernelspec": {
   "display_name": "Python 3 (ipykernel)",
   "language": "python",
   "name": "python3"
  },
  "language_info": {
   "codemirror_mode": {
    "name": "ipython",
    "version": 3
   },
   "file_extension": ".py",
   "mimetype": "text/x-python",
   "name": "python",
   "nbconvert_exporter": "python",
   "pygments_lexer": "ipython3",
   "version": "3.11.7"
  }
 },
 "nbformat": 4,
 "nbformat_minor": 4
}
