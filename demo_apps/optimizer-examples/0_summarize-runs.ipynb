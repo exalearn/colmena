{
 "cells": [
  {
   "cell_type": "markdown",
   "metadata": {},
   "source": [
    "# Summarize Runs\n",
    "Summarize the runs that have been performed to date"
   ]
  },
  {
   "cell_type": "code",
   "execution_count": 1,
   "metadata": {},
   "outputs": [],
   "source": [
    "%matplotlib inline\n",
    "from matplotlib import pyplot as plt\n",
    "from datetime import datetime\n",
    "from pathlib import Path\n",
    "import pandas as pd\n",
    "import json\n",
    "import re"
   ]
  },
  {
   "cell_type": "markdown",
   "metadata": {},
   "source": [
    "## Find the Result Directories\n",
    "They each contain a `results.json` file"
   ]
  },
  {
   "cell_type": "code",
   "execution_count": 2,
   "metadata": {},
   "outputs": [
    {
     "name": "stdout",
     "output_type": "stream",
     "text": [
      "Found 4 runs\n"
     ]
    }
   ],
   "source": [
    "runs = list(Path('runs').rglob('results.json'))\n",
    "print(f'Found {len(runs)} runs')"
   ]
  },
  {
   "cell_type": "code",
   "execution_count": 5,
   "metadata": {},
   "outputs": [],
   "source": [
    "def load_run_information(log_path):\n",
    "    \"\"\"Get the information from the run in\n",
    "    \n",
    "    Args:\n",
    "        log_path (str): Path to the runtime log\n",
    "    \"\"\"\n",
    "    \n",
    "    # Store the path\n",
    "    run_dir = log_path.parent\n",
    "    path_name = log_path.parent.name\n",
    "    output = {\n",
    "        'path': str(run_dir),\n",
    "        'start_time': datetime.strptime(path_name.split(\"-\", 3)[-1], \"%d%m%y-%H%M%S\"),\n",
    "    }\n",
    "    \n",
    "    # Get the run parameters\n",
    "    with open(run_dir / 'params.json') as fp:\n",
    "        output.update(json.load(fp))\n",
    "        \n",
    "    # Count the number of workers\n",
    "    #  TODO (wardlt): Divide up by manager type\n",
    "    workers = 0\n",
    "    for m in run_dir.rglob('manager.log'):\n",
    "        with open(m) as fp:\n",
    "            workers += int(re.findall('Manager will spawn (\\d+) workers', fp.read(), re.MULTILINE)[0])\n",
    "    output['worker_count'] = workers\n",
    "        \n",
    "    # Get the number evaluated\n",
    "    with open(run_dir / 'results.json') as fp:\n",
    "        output['n_evals'] = len(fp.readlines())\n",
    "    \n",
    "    return output"
   ]
  },
  {
   "cell_type": "code",
   "execution_count": 6,
   "metadata": {},
   "outputs": [
    {
     "data": {
      "text/html": [
       "<div>\n",
       "<style scoped>\n",
       "    .dataframe tbody tr th:only-of-type {\n",
       "        vertical-align: middle;\n",
       "    }\n",
       "\n",
       "    .dataframe tbody tr th {\n",
       "        vertical-align: top;\n",
       "    }\n",
       "\n",
       "    .dataframe thead th {\n",
       "        text-align: right;\n",
       "    }\n",
       "</style>\n",
       "<table border=\"1\" class=\"dataframe\">\n",
       "  <thead>\n",
       "    <tr style=\"text-align: right;\">\n",
       "      <th></th>\n",
       "      <th>path</th>\n",
       "      <th>start_time</th>\n",
       "      <th>num_guesses</th>\n",
       "      <th>num_parallel</th>\n",
       "      <th>dim</th>\n",
       "      <th>opt_delay</th>\n",
       "      <th>runtime</th>\n",
       "      <th>runtime_var</th>\n",
       "      <th>file</th>\n",
       "      <th>worker_count</th>\n",
       "      <th>n_evals</th>\n",
       "    </tr>\n",
       "  </thead>\n",
       "  <tbody>\n",
       "    <tr>\n",
       "      <th>0</th>\n",
       "      <td>runs/streaming-N100-P10-010124-204640</td>\n",
       "      <td>2024-01-01 20:46:40</td>\n",
       "      <td>100</td>\n",
       "      <td>10</td>\n",
       "      <td>4</td>\n",
       "      <td>0.0</td>\n",
       "      <td>2</td>\n",
       "      <td>0.1</td>\n",
       "      <td>streaming.py</td>\n",
       "      <td>10</td>\n",
       "      <td>100</td>\n",
       "    </tr>\n",
       "    <tr>\n",
       "      <th>1</th>\n",
       "      <td>runs/interleaved-N100-P10-010124-164354</td>\n",
       "      <td>2024-01-01 16:43:54</td>\n",
       "      <td>100</td>\n",
       "      <td>10</td>\n",
       "      <td>4</td>\n",
       "      <td>2.0</td>\n",
       "      <td>2</td>\n",
       "      <td>0.1</td>\n",
       "      <td>interleaved.py</td>\n",
       "      <td>11</td>\n",
       "      <td>100</td>\n",
       "    </tr>\n",
       "    <tr>\n",
       "      <th>2</th>\n",
       "      <td>runs/streaming-N100-P10-010124-165825</td>\n",
       "      <td>2024-01-01 16:58:25</td>\n",
       "      <td>100</td>\n",
       "      <td>10</td>\n",
       "      <td>4</td>\n",
       "      <td>0.0</td>\n",
       "      <td>2</td>\n",
       "      <td>0.1</td>\n",
       "      <td>streaming.py</td>\n",
       "      <td>10</td>\n",
       "      <td>100</td>\n",
       "    </tr>\n",
       "    <tr>\n",
       "      <th>3</th>\n",
       "      <td>runs/batch-N100-P10-010124-164823</td>\n",
       "      <td>2024-01-01 16:48:23</td>\n",
       "      <td>100</td>\n",
       "      <td>10</td>\n",
       "      <td>4</td>\n",
       "      <td>NaN</td>\n",
       "      <td>2</td>\n",
       "      <td>4.0</td>\n",
       "      <td>batch.py</td>\n",
       "      <td>10</td>\n",
       "      <td>100</td>\n",
       "    </tr>\n",
       "  </tbody>\n",
       "</table>\n",
       "</div>"
      ],
      "text/plain": [
       "                                      path          start_time  num_guesses  \\\n",
       "0    runs/streaming-N100-P10-010124-204640 2024-01-01 20:46:40          100   \n",
       "1  runs/interleaved-N100-P10-010124-164354 2024-01-01 16:43:54          100   \n",
       "2    runs/streaming-N100-P10-010124-165825 2024-01-01 16:58:25          100   \n",
       "3        runs/batch-N100-P10-010124-164823 2024-01-01 16:48:23          100   \n",
       "\n",
       "   num_parallel  dim  opt_delay  runtime  runtime_var            file  \\\n",
       "0            10    4        0.0        2          0.1    streaming.py   \n",
       "1            10    4        2.0        2          0.1  interleaved.py   \n",
       "2            10    4        0.0        2          0.1    streaming.py   \n",
       "3            10    4        NaN        2          4.0        batch.py   \n",
       "\n",
       "   worker_count  n_evals  \n",
       "0            10      100  \n",
       "1            11      100  \n",
       "2            10      100  \n",
       "3            10      100  "
      ]
     },
     "execution_count": 6,
     "metadata": {},
     "output_type": "execute_result"
    }
   ],
   "source": [
    "results = pd.DataFrame(load_run_information(r) for r in runs)\n",
    "results"
   ]
  },
  {
   "cell_type": "code",
   "execution_count": 7,
   "metadata": {},
   "outputs": [],
   "source": [
    "results.to_csv('run_data.csv', index=False)"
   ]
  },
  {
   "cell_type": "code",
   "execution_count": null,
   "metadata": {},
   "outputs": [],
   "source": []
  }
 ],
 "metadata": {
  "kernelspec": {
   "display_name": "Python 3 (ipykernel)",
   "language": "python",
   "name": "python3"
  },
  "language_info": {
   "codemirror_mode": {
    "name": "ipython",
    "version": 3
   },
   "file_extension": ".py",
   "mimetype": "text/x-python",
   "name": "python",
   "nbconvert_exporter": "python",
   "pygments_lexer": "ipython3",
   "version": "3.11.7"
  }
 },
 "nbformat": 4,
 "nbformat_minor": 4
}
